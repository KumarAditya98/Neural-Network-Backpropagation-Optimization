{
 "cells": [
  {
   "cell_type": "code",
   "execution_count": 1,
   "id": "40a6a2cb",
   "metadata": {},
   "outputs": [],
   "source": [
    "import matplotlib.pyplot as plt\n",
    "import numpy as np\n",
    "import pandas as pd"
   ]
  },
  {
   "cell_type": "code",
   "execution_count": 2,
   "id": "a84506b5",
   "metadata": {},
   "outputs": [],
   "source": [
    "class VariableLearningRate:\n",
    "    def __init__(self, lr=0.1, decay=0.0):\n",
    "        self.lr = lr\n",
    "        self.decay = decay\n",
    "        \n",
    "    def __call__(self, t):\n",
    "        return self.lr / (1.0 + self.decay * t)\n",
    "    \n",
    "    def plot_learning_rate(self, num_epochs):\n",
    "        lr_values = [self(t) for t in range(num_epochs)]\n",
    "        plt.plot(lr_values)\n",
    "        plt.xlabel('Epoch')\n",
    "        plt.ylabel('Learning rate')\n",
    "        plt.show()\n",
    "\n",
    "class NeuralNetwork:\n",
    "    def __init__(self, input_dim, hidden_dim, output_dim):\n",
    "        self.input_dim = input_dim\n",
    "        self.hidden_dim = hidden_dim\n",
    "        self.output_dim = output_dim\n",
    "        self.weights = np.random.rand(hidden_dim, input_dim)\n",
    "        \n",
    "    def forward(self, x):\n",
    "        x = np.append(x, 1.0)\n",
    "        z = np.dot(self.weights, x)\n",
    "        return np.sin(z) * np.exp(-np.abs(z))\n",
    "    \n",
    "    def train(self, p, g, num_epochs, lr_schedule):\n",
    "        for epoch in range(num_epochs):\n",
    "            np.random.shuffle(p)\n",
    "            for x in p:\n",
    "                y = self.forward(x)\n",
    "                gradient = (y - g(x)) * np.array([np.exp(-np.abs(x)), np.pi*np.cos(np.pi*x), 1.0])\n",
    "                lr = lr_schedule.__call__(epoch)\n",
    "                self.weights -= lr * np.outer(gradient, np.append(x, 1.0))"
   ]
  },
  {
   "cell_type": "code",
   "execution_count": 3,
   "id": "01baecbd",
   "metadata": {},
   "outputs": [],
   "source": [
    "p = np.linspace(-2,2,100)\n",
    "g = np.exp(-np.abs(p))*np.sin(np.pi*p)\n",
    "\n",
    "input_dim = 2\n",
    "hidden_dim = 10\n",
    "output_dim = 1"
   ]
  },
  {
   "cell_type": "code",
   "execution_count": 4,
   "id": "fb5e983f",
   "metadata": {},
   "outputs": [
    {
     "data": {
      "image/png": "[encoded data removed]",
      "text/plain": [
       "<Figure size 432x288 with 1 Axes>"
      ]
     },
     "metadata": {
      "needs_background": "light"
     },
     "output_type": "display_data"
    },
    {
     "ename": "TypeError",
     "evalue": "'numpy.ndarray' object is not callable",
     "output_type": "error",
     "traceback": [
      "\u001b[1;31m---------------------------------------------------------------------------\u001b[0m",
      "\u001b[1;31mTypeError\u001b[0m                                 Traceback (most recent call last)",
      "Input \u001b[1;32mIn [4]\u001b[0m, in \u001b[0;36m<cell line: 5>\u001b[1;34m()\u001b[0m\n\u001b[0;32m      2\u001b[0m lr_schedule\u001b[38;5;241m.\u001b[39mplot_learning_rate(num_epochs\u001b[38;5;241m=\u001b[39m\u001b[38;5;241m100\u001b[39m)\n\u001b[0;32m      4\u001b[0m nn \u001b[38;5;241m=\u001b[39m NeuralNetwork(input_dim, hidden_dim, output_dim)\n\u001b[1;32m----> 5\u001b[0m \u001b[43mnn\u001b[49m\u001b[38;5;241;43m.\u001b[39;49m\u001b[43mtrain\u001b[49m\u001b[43m(\u001b[49m\u001b[43mp\u001b[49m\u001b[43m,\u001b[49m\u001b[43m \u001b[49m\u001b[43mg\u001b[49m\u001b[43m,\u001b[49m\u001b[43m \u001b[49m\u001b[43mnum_epochs\u001b[49m\u001b[38;5;241;43m=\u001b[39;49m\u001b[38;5;241;43m1000\u001b[39;49m\u001b[43m,\u001b[49m\u001b[43m \u001b[49m\u001b[43mlr_schedule\u001b[49m\u001b[38;5;241;43m=\u001b[39;49m\u001b[43mlr_schedule\u001b[49m\u001b[43m)\u001b[49m\n\u001b[0;32m      7\u001b[0m \u001b[38;5;28mprint\u001b[39m(\u001b[38;5;124m'\u001b[39m\u001b[38;5;124mWeights:\u001b[39m\u001b[38;5;124m'\u001b[39m, nn\u001b[38;5;241m.\u001b[39mweights)\n",
      "Input \u001b[1;32mIn [2]\u001b[0m, in \u001b[0;36mNeuralNetwork.train\u001b[1;34m(self, p, g, num_epochs, lr_schedule)\u001b[0m\n\u001b[0;32m     31\u001b[0m \u001b[38;5;28;01mfor\u001b[39;00m x \u001b[38;5;129;01min\u001b[39;00m p:\n\u001b[0;32m     32\u001b[0m     y \u001b[38;5;241m=\u001b[39m \u001b[38;5;28mself\u001b[39m\u001b[38;5;241m.\u001b[39mforward(x)\n\u001b[1;32m---> 33\u001b[0m     gradient \u001b[38;5;241m=\u001b[39m (y \u001b[38;5;241m-\u001b[39m \u001b[43mg\u001b[49m\u001b[43m(\u001b[49m\u001b[43mx\u001b[49m\u001b[43m)\u001b[49m) \u001b[38;5;241m*\u001b[39m np\u001b[38;5;241m.\u001b[39marray([np\u001b[38;5;241m.\u001b[39mexp(\u001b[38;5;241m-\u001b[39mnp\u001b[38;5;241m.\u001b[39mabs(x)), np\u001b[38;5;241m.\u001b[39mpi\u001b[38;5;241m*\u001b[39mnp\u001b[38;5;241m.\u001b[39mcos(np\u001b[38;5;241m.\u001b[39mpi\u001b[38;5;241m*\u001b[39mx), \u001b[38;5;241m1.0\u001b[39m])\n\u001b[0;32m     34\u001b[0m     lr \u001b[38;5;241m=\u001b[39m lr_schedule(epoch)\n\u001b[0;32m     35\u001b[0m     \u001b[38;5;28mself\u001b[39m\u001b[38;5;241m.\u001b[39mweights \u001b[38;5;241m-\u001b[39m\u001b[38;5;241m=\u001b[39m lr \u001b[38;5;241m*\u001b[39m np\u001b[38;5;241m.\u001b[39mouter(gradient, np\u001b[38;5;241m.\u001b[39mappend(x, \u001b[38;5;241m1.0\u001b[39m))\n",
      "\u001b[1;31mTypeError\u001b[0m: 'numpy.ndarray' object is not callable"
     ]
    }
   ],
   "source": [
    "lr_schedule = VariableLearningRate(lr=0.1, decay=0.001)\n",
    "lr_schedule.plot_learning_rate(num_epochs=100)\n",
    "\n",
    "nn = NeuralNetwork(input_dim, hidden_dim, output_dim)\n",
    "nn.train(p, g, num_epochs=1000, lr_schedule=lr_schedule)\n",
    "\n",
    "print('Weights:', nn.weights)"
   ]
  }
 ],
 "metadata": {
  "kernelspec": {
   "display_name": "Python 3 (ipykernel)",
   "language": "python",
   "name": "python3"
  },
  "language_info": {
   "codemirror_mode": {
    "name": "ipython",
    "version": 3
   },
   "file_extension": ".py",
   "mimetype": "text/x-python",
   "name": "python",
   "nbconvert_exporter": "python",
   "pygments_lexer": "ipython3",
   "version": "3.9.12"
  }
 },
 "nbformat": 4,
 "nbformat_minor": 5
}
