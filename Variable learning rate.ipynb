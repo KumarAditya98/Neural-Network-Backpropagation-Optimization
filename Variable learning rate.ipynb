{
 "cells": [
  {
   "cell_type": "code",
   "execution_count": 1,
   "id": "c61c1e47",
   "metadata": {},
   "outputs": [],
   "source": [
    "import matplotlib.pyplot as plt\n",
    "import numpy as np\n",
    "import pandas as pd"
   ]
  },
  {
   "cell_type": "code",
   "execution_count": 2,
   "id": "6a43f095",
   "metadata": {},
   "outputs": [],
   "source": [
    "class VariableLearningRate:\n",
    "    def __init__(self, p, g, initial_lr=0.085, decay_factor=0.2):\n",
    "        self.p = p\n",
    "        self.g = g\n",
    "        self.lr = initial_lr\n",
    "        self.decay_factor = decay_factor\n",
    "    \n",
    "    def update_lr(self, epoch):\n",
    "        self.lr *= self.decay_factor ** epoch\n",
    "    \n",
    "    def train(self, num_epochs):\n",
    "        weights = np.random.randn(1)\n",
    "        biases = np.random.randn(1)\n",
    "        for epoch in range(num_epochs):\n",
    "            self.update_lr(epoch)\n",
    "            for i in range(len(self.p)):\n",
    "                # Forward pass\n",
    "                output = weights * self.p[i] + biases\n",
    "                loss = (output - self.g[i])**2\n",
    "\n",
    "                # Backward pass\n",
    "                grad_output = 2 * (output - self.g[i])\n",
    "                grad_weights = grad_output * self.p[i]\n",
    "                grad_biases = grad_output\n",
    "\n",
    "                # Update weights and biases\n",
    "                weights -= self.lr * grad_weights\n",
    "                biases -= self.lr * grad_biases\n",
    "        return weights, biases\n",
    "    \n",
    "    def plot_lr_schedule(self, num_epochs):\n",
    "        lrs = [self.lr * self.decay_factor**epoch for epoch in range(num_epochs)]\n",
    "        plt.plot(range(num_epochs), lrs)\n",
    "        plt.xlabel('Epoch')\n",
    "        plt.ylabel('Learning Rate')\n",
    "        plt.show()"
   ]
  },
  {
   "cell_type": "code",
   "execution_count": 3,
   "id": "8f8d4ec2",
   "metadata": {},
   "outputs": [],
   "source": [
    "p = np.linspace(-2, 2, 100)\n",
    "g = np.exp(-np.abs(p)) * np.sin(np.pi * p)\n",
    "\n",
    "vlr = VariableLearningRate(p, g)"
   ]
  },
  {
   "cell_type": "code",
   "execution_count": 4,
   "id": "cc250a78",
   "metadata": {},
   "outputs": [
    {
     "data": {
      "image/png": "[encoded data removed]",
      "text/plain": [
       "<Figure size 432x288 with 1 Axes>"
      ]
     },
     "metadata": {
      "needs_background": "light"
     },
     "output_type": "display_data"
    }
   ],
   "source": [
    "# Plot original function g\n",
    "plt.plot(p, g, label='Original function')\n",
    "\n",
    "# Train neural network\n",
    "weights, biases = vlr.train(num_epochs=3000)\n",
    "\n",
    "# Evaluate neural network output\n",
    "nn_output = weights * p + biases\n",
    "\n",
    "# Plot neural network output\n",
    "plt.plot(p, nn_output, label='Neural network output')\n",
    "plt.legend()\n",
    "plt.show()"
   ]
  }
 ],
 "metadata": {
  "kernelspec": {
   "display_name": "Python 3 (ipykernel)",
   "language": "python",
   "name": "python3"
  },
  "language_info": {
   "codemirror_mode": {
    "name": "ipython",
    "version": 3
   },
   "file_extension": ".py",
   "mimetype": "text/x-python",
   "name": "python",
   "nbconvert_exporter": "python",
   "pygments_lexer": "ipython3",
   "version": "3.9.12"
  }
 },
 "nbformat": 4,
 "nbformat_minor": 5
}
